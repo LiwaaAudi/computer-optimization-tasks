{
 "cells": [
  {
   "cell_type": "markdown",
   "metadata": {},
   "source": [
    "# Solve exp^x - x^2"
   ]
  },
  {
   "cell_type": "code",
   "execution_count": 38,
   "metadata": {},
   "outputs": [],
   "source": [
    "import math\n",
    "\n",
    "# main function\n",
    "def f(x):\n",
    "    return (math.e**x)-(x**2)\n",
    "\n",
    "# derevative\n",
    "def g(x):\n",
    "    return (math.e**2)-(2*x)"
   ]
  },
  {
   "cell_type": "code",
   "execution_count": 31,
   "metadata": {},
   "outputs": [],
   "source": [
    "class methods:\n",
    "    \n",
    "    # Bisectional Method\n",
    "    def bisection(self, x0,x1,e):\n",
    "        step = 1\n",
    "        print('\\n\\n*** BISECTIONAL METHOD***')\n",
    "        condition = True\n",
    "        while condition:\n",
    "            x2 = (x0 + x1)/2\n",
    "            print('Iteration-%d, x2 = %0.6f and f(x2) = %0.6f' % (step, x2, f(x2)))\n",
    "\n",
    "            if f(x0) * f(x2) < 0:\n",
    "                x1 = x2\n",
    "            else:\n",
    "                x0 = x2\n",
    "\n",
    "            step = step + 1\n",
    "            condition = abs(f(x2)) > e\n",
    "\n",
    "        print('\\nRequired Root is : %0.8f' % x2)\n",
    "\n",
    "    # Secant Method\n",
    "    def secant(self,x0,x1,e,N):\n",
    "        print('\\n\\n*** SECANT METHOD ***')\n",
    "        step = 1\n",
    "        condition = True\n",
    "        while condition:\n",
    "            if f(x0) == f(x1):\n",
    "                print('Divide by zero error!')\n",
    "                break\n",
    "\n",
    "            x2 = x0 - (x1-x0)*f(x0)/( f(x1) - f(x0) ) \n",
    "            print('Iteration-%d, x2 = %0.6f and f(x2) = %0.6f' % (step, x2, f(x2)))\n",
    "            x0 = x1\n",
    "            x1 = x2\n",
    "            step = step + 1\n",
    "\n",
    "            if step > N:\n",
    "                print('Not Convergent!')\n",
    "                break\n",
    "\n",
    "            condition = abs(f(x2)) > e\n",
    "        print('\\n Required root is: %0.8f' % x2)\n",
    "    \n",
    "    # Newton Method\n",
    "    def newtonRaphson(self,x0,e,N):\n",
    "        print('\\n\\n*** NEWTON METHOD***')\n",
    "        step = 1\n",
    "        flag = 1\n",
    "        condition = True\n",
    "        while condition:\n",
    "            if g(x0) == 0.0:\n",
    "                print('Divide by zero error!')\n",
    "                break\n",
    "\n",
    "            x1 = x0 - f(x0)/g(x0)\n",
    "            print('Iteration-%d, x1 = %0.6f and f(x1) = %0.6f' % (step, x1, f(x1)))\n",
    "            x0 = x1\n",
    "            step = step + 1\n",
    "\n",
    "            if step > N:\n",
    "                flag = 0\n",
    "                break\n",
    "\n",
    "            condition = abs(f(x1)) > e\n",
    "\n",
    "        if flag==1:\n",
    "            print('\\nRequired root is: %0.8f' % x1)\n",
    "        else:\n",
    "            print('\\nNot Convergent.')\n",
    "    \n",
    "    \n",
    "    def get_bisection(self):  \n",
    "        # Input Section\n",
    "        x0 = input('First Guess: ')\n",
    "        x1 = input('Second Guess: ')\n",
    "        e = input('Tolerable Error: ')\n",
    "\n",
    "        # Converting input to float\n",
    "        x0 = float(x0)\n",
    "        x1 = float(x1)\n",
    "        e = float(e)\n",
    "        \n",
    "        # Checking Correctness of initial guess values and bisecting\n",
    "        if f(x0) * f(x1) > 0.0:\n",
    "            print('Given guess values do not bracket the root.')\n",
    "            print('Try Again with different guess values.')\n",
    "        else:\n",
    "            self.bisection(x0,x1,e)\n",
    "\n",
    "    \n",
    "    def get_secant(self):\n",
    "        # Input Section\n",
    "        x0 = input('Enter First Guess: ')\n",
    "        x1 = input('Enter Second Guess: ')\n",
    "        e = input('Tolerable Error: ')\n",
    "        N = input('Maximum Step: ')\n",
    "\n",
    "        # Converting x0 and e to float\n",
    "        x0 = float(x0)\n",
    "        x1 = float(x1)\n",
    "        e = float(e)\n",
    "\n",
    "        # Converting N to integer\n",
    "        N = int(N)\n",
    "        self.secant(x0,x1,e,N)\n",
    "    \n",
    "    def get_newton(self):\n",
    "        # Input Section\n",
    "        x0 = input('Enter Guess: ')\n",
    "        e = input('Tolerable Error: ')\n",
    "        N = input('Maximum Step: ')\n",
    "\n",
    "        # Converting x0 and e to float\n",
    "        x0 = float(x0)\n",
    "        e = float(e)\n",
    "\n",
    "        # Converting N to integer\n",
    "        N = int(N)\n",
    "        newtonRaphson(x0,e,N)\n",
    "    "
   ]
  },
  {
   "cell_type": "code",
   "execution_count": 32,
   "metadata": {},
   "outputs": [],
   "source": [
    "x = methods()"
   ]
  },
  {
   "cell_type": "code",
   "execution_count": 33,
   "metadata": {},
   "outputs": [
    {
     "name": "stdin",
     "output_type": "stream",
     "text": [
      "First Guess:  -1\n",
      "Second Guess:  2\n",
      "Tolerable Error:  0.1\n"
     ]
    },
    {
     "name": "stdout",
     "output_type": "stream",
     "text": [
      "\n",
      "\n",
      "*** BISECTIONAL METHOD***\n",
      "Iteration-1, x2 = 0.500000 and f(x2) = 1.398721\n",
      "Iteration-2, x2 = -0.250000 and f(x2) = 0.716301\n",
      "Iteration-3, x2 = -0.625000 and f(x2) = 0.144636\n",
      "Iteration-4, x2 = -0.812500 and f(x2) = -0.216409\n",
      "Iteration-5, x2 = -0.718750 and f(x2) = -0.029240\n",
      "\n",
      "Required Root is : -0.71875000\n"
     ]
    }
   ],
   "source": [
    "x.get_bisection()"
   ]
  },
  {
   "cell_type": "code",
   "execution_count": 34,
   "metadata": {},
   "outputs": [
    {
     "name": "stdin",
     "output_type": "stream",
     "text": [
      "Enter First Guess:  -2\n",
      "Enter Second Guess:  0\n",
      "Tolerable Error:  0.1\n",
      "Maximum Step:  10\n"
     ]
    },
    {
     "name": "stdout",
     "output_type": "stream",
     "text": [
      "\n",
      "\n",
      "*** SECANT METHOD ***\n",
      "Iteration-1, x2 = -0.411128 and f(x2) = 0.493876\n",
      "Iteration-2, x2 = -0.812307 and f(x2) = -0.216009\n",
      "Iteration-3, x2 = -0.690233 and f(x2) = 0.025037\n",
      "\n",
      " Required root is: -0.69023307\n"
     ]
    }
   ],
   "source": [
    "x.get_secant()"
   ]
  },
  {
   "cell_type": "code",
   "execution_count": 37,
   "metadata": {},
   "outputs": [
    {
     "name": "stdin",
     "output_type": "stream",
     "text": [
      "Enter Guess:  -1\n",
      "Tolerable Error:  0.1\n",
      "Maximum Step:  10\n"
     ]
    },
    {
     "name": "stdout",
     "output_type": "stream",
     "text": [
      "\n",
      "\n",
      "*** NEWTON RAPHSON METHOD IMPLEMENTATION ***\n",
      "Iteration-1, x1 = -0.932675 and f(x1) = -0.476382\n",
      "Iteration-2, x1 = -0.881198 and f(x1) = -0.362225\n",
      "Iteration-3, x1 = -0.841617 and f(x1) = -0.277307\n",
      "Iteration-4, x1 = -0.811051 and f(x1) = -0.213413\n",
      "Iteration-5, x1 = -0.787368 and f(x1) = -0.164907\n",
      "Iteration-6, x1 = -0.768971 and f(x1) = -0.127826\n",
      "Iteration-7, x1 = -0.754652 and f(x1) = -0.099325\n",
      "\n",
      "Required root is: -0.75465173\n"
     ]
    }
   ],
   "source": [
    "x.get_newton()"
   ]
  },
  {
   "cell_type": "code",
   "execution_count": null,
   "metadata": {},
   "outputs": [],
   "source": []
  }
 ],
 "metadata": {
  "kernelspec": {
   "display_name": "Python 3",
   "language": "python",
   "name": "python3"
  },
  "language_info": {
   "codemirror_mode": {
    "name": "ipython",
    "version": 3
   },
   "file_extension": ".py",
   "mimetype": "text/x-python",
   "name": "python",
   "nbconvert_exporter": "python",
   "pygments_lexer": "ipython3",
   "version": "3.8.5"
  }
 },
 "nbformat": 4,
 "nbformat_minor": 4
}
