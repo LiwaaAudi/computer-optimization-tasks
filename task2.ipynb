{
 "cells": [
  {
   "cell_type": "markdown",
   "metadata": {},
   "source": [
    "# Task 2\n",
    "## Solve system of linear equations using Jacobi method with accuracy 0,1.\n",
    "### -3x + 2y - 6z = 14 \n",
    "### 4x - 5y + 2z = -3 \n",
    "### 7x + 9y + 3z = 14 "
   ]
  },
  {
   "cell_type": "markdown",
   "metadata": {},
   "source": [
    "# Steps Taken in this code\n",
    "\n",
    "#### 1. Arrange given system of linear equations in diagonally dominant form\n",
    "\n",
    "\n",
    "#### 2. Read tolerable error (e)\n",
    "\n",
    "\n",
    "#### 3. Convert the first equation in terms of first variable, second equation in terms of second variable and so on. \n",
    "\n",
    "\n",
    "#### 4. Set initial guesses for x0, y0, z0 and so on\n",
    "\n",
    "\n",
    "#### 5. Substitute value of x0, y0, z0 ... from step 5 in equation obtained in  step 4 to calculate new values x1, y1, z1 and so on\n",
    "\n",
    "\n",
    "#### 6. If| x0 - x1| > e and | y0 - y1| > e and | z0 - z1| > e and so on then goto step 9\n",
    "\n",
    "\n",
    "#### 7. Set x0=x1, y0=y1, z0=z1 and so on and goto step 6\n",
    "\n",
    "\n",
    "#### 8. Print value of x1, y1, z1 and so on"
   ]
  },
  {
   "cell_type": "code",
   "execution_count": 1,
   "metadata": {},
   "outputs": [
    {
     "name": "stdin",
     "output_type": "stream",
     "text": [
      "tolerable error:  0.1\n"
     ]
    },
    {
     "name": "stdout",
     "output_type": "stream",
     "text": [
      "Tolerable error = 0.1\n",
      "\n",
      "Count\tx\ty\tz\n",
      "\n",
      "1\t2.0000\t0.6000\t-2.3333\n",
      "\n",
      "2\t2.2286\t1.2667\t-3.1333\n",
      "\n",
      "3\t1.7143\t1.1295\t-3.0254\n",
      "\n",
      "4\t1.8444\t0.7613\t-2.8140\n",
      "\n",
      "5\t2.2272\t0.9499\t-3.0018\n",
      "\n",
      "6\t2.0652\t1.1811\t-3.1303\n",
      "\n",
      "7\t1.8230\t1.0000\t-2.9722\n",
      "\n",
      "8\t1.9881\t0.8695\t-2.9115\n",
      "\n",
      "\n",
      "Solution: x=1.988, y=0.870 and z = -2.912\n",
      "\n"
     ]
    }
   ],
   "source": [
    "# Defining equations to be solved\n",
    "# in diagonally dominant form\n",
    "f1 = lambda x,y,z: (14-9*y-3*z)/7\n",
    "f2 = lambda x,y,z: (-3-4*x-2*z)/-5\n",
    "f3 = lambda x,y,z: (14+3*x-2*y)/-6\n",
    "\n",
    "# Initial setup\n",
    "x0 = 0\n",
    "y0 = 0\n",
    "z0 = 0\n",
    "count = 1\n",
    "\n",
    "# Reading tolerable error\n",
    "e = float(input('tolerable error: '))\n",
    "print('Tolerable error = {}'.format(e))\n",
    "\n",
    "# Implementation of Jacobi Iteration\n",
    "print('\\nCount\\tx\\ty\\tz\\n')\n",
    "\n",
    "condition = True\n",
    "\n",
    "while condition:\n",
    "    x1 = f1(x0,y0,z0)\n",
    "    y1 = f2(x0,y0,z0)\n",
    "    z1 = f3(x0,y0,z0)\n",
    "    print('%d\\t%0.4f\\t%0.4f\\t%0.4f\\n' %(count, x1,y1,z1))\n",
    "    e1 = abs(x0-x1);\n",
    "    e2 = abs(y0-y1);\n",
    "    e3 = abs(z0-z1);\n",
    "    \n",
    "    count += 1\n",
    "    x0 = x1\n",
    "    y0 = y1\n",
    "    z0 = z1\n",
    "    \n",
    "    condition = e1>e and e2>e and e3>e\n",
    "\n",
    "print('\\nSolution: x=%0.3f, y=%0.3f and z = %0.3f\\n'% (x1,y1,z1))"
   ]
  }
 ],
 "metadata": {
  "kernelspec": {
   "display_name": "Python 3",
   "language": "python",
   "name": "python3"
  },
  "language_info": {
   "codemirror_mode": {
    "name": "ipython",
    "version": 3
   },
   "file_extension": ".py",
   "mimetype": "text/x-python",
   "name": "python",
   "nbconvert_exporter": "python",
   "pygments_lexer": "ipython3",
   "version": "3.8.5"
  }
 },
 "nbformat": 4,
 "nbformat_minor": 4
}
