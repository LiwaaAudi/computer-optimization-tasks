{
 "cells": [
  {
   "cell_type": "markdown",
   "metadata": {},
   "source": [
    "# Task 1:\n",
    "### Using Newton’s method choose x0 and find the root of the equation x+ex=0 with accuracy 0.01. How many iterations needed?"
   ]
  },
  {
   "cell_type": "markdown",
   "metadata": {},
   "source": [
    "# Steps Taken in this code\n",
     "#### 1. Start\n",
     "#### 2. Define function as f(x)\n",
     "#### 3. Visualize Function with all possible x\n",
     "#### 4. Define first derivative of f(x) as g(x)\n",
     "#### 5. Input initial guess (x0), tolerable error (e) and maximum iteration (N)\n",
     "#### 6. Initialize iteration counter i = 1\n",
     "#### 7. If g(x0) = 0 then print "Mathematical Error" and goto (12) otherwise goto (7)\n",
     "#### 8. Calcualte x1 = x0 - f(x0) / g(x0)\n",
     "#### 9. Increment iteration counter i = i + 1\n",
     "#### 10. If i >= N then print "Not Convergent" and goto (12) otherwise goto (10)\n",
     "#### 11. If |f(x1)| > e then set x0 = x1 and goto (6) otherwise goto (11)\n",
     "#### 12. Print root as x1\n"
   ]
  },
  {
   "cell_type": "markdown",
   "metadata": {},
   "source": [
    "#### Import Libraries"
   ]
  },
  {
   "cell_type": "code",
   "execution_count": 1,
   "metadata": {},
   "outputs": [],
   "source": [
    "import math\n",
    "import numpy as np\n",
    "import matplotlib.pyplot as plt"
   ]
  },
  {
   "cell_type": "markdown",
   "metadata": {},
   "source": [
    "### Function"
   ]
  },
  {
   "cell_type": "code",
   "execution_count": 2,
   "metadata": {},
   "outputs": [],
   "source": [
    "def f(x):\n",
    "    return x + (math.e**x)"
   ]
  },
  {
   "cell_type": "markdown",
   "metadata": {},
   "source": [
    "### Derivative"
   ]
  },
  {
   "cell_type": "code",
   "execution_count": 3,
   "metadata": {},
   "outputs": [],
   "source": [
    "def g(x):\n",
    "    return 1 + (math.e**x)"
   ]
  },
  {
   "cell_type": "markdown",
   "metadata": {},
   "source": [
    "### Newton method Solver"
   ]
  },
  {
   "cell_type": "code",
   "execution_count": 4,
   "metadata": {},
   "outputs": [],
   "source": [
    "class NewtonSolver:\n",
    "    \"\"\"\n",
    "    Class NewtonSolver:\n",
    "    A Newton’s method solver for numerically finding roots of an equation\n",
    "    \"\"\"\n",
    "    def newton(self, x0, e, N):\n",
    "        \"\"\"\n",
    "        A step by step solver, with iterations\n",
    "        :param x0: Guessed x\n",
    "        :param e: Tolerable Error\n",
    "        :param N: Maximum number of iteration\n",
    "        :return: Number of iteration and the required root\n",
    "        \"\"\"\n",
    "        print('\\n\\n*** NEWTON METHOD IMPLEMENTATION***')\n",
    "        step = 1\n",
    "        flag = 1\n",
    "        condition = True\n",
    "\n",
    "        # Iterations ( repeat until we are done)\n",
    "        while condition:\n",
    "            if g(x0) == 0.0:\n",
    "                print('Divide by zero error!')\n",
    "                break\n",
    "\n",
    "            x1 = x0 - f(x0) / g(x0)\n",
    "            print('Iteration - %d, x1 = %0.6f and f(x1) = %0.6f' % (step, x1, f(x1)))\n",
    "            x0 = x1\n",
    "            step = step + 1\n",
    "\n",
    "            if step > N:\n",
    "                flag = 0\n",
    "                break\n",
    "\n",
    "            condition = abs(f(x1)) > e\n",
    "\n",
    "        if flag == 1:\n",
    "            print('\\nRequired root is: %0.8f' % x1)\n",
    "        else:\n",
    "            print('\\nNot Convergent.')\n",
    "\n",
    "    def plotter(self):\n",
    "        \"\"\"\n",
    "        Visualise the function\n",
    "        :return: function graph\n",
    "        \"\"\"\n",
    "        # define left and right boundaries for plotting\n",
    "        interval_left = -2\n",
    "        interval_right = 2\n",
    "\n",
    "        # define x grid of points for computation and plotting the function\n",
    "        # increase num at your convenience, but with caution. Article figure has 10 000\n",
    "        xvals = np.linspace(interval_left, interval_right, num=100)\n",
    "        # define y values for example function\n",
    "        yvals = f(xvals)\n",
    "        # create a list of startin points for Newton's method\n",
    "        pointlist = xvals\n",
    "        # begin figure for plotting\n",
    "        plt.figure()\n",
    "        # plot the function f\n",
    "        plt.plot(xvals, yvals)\n",
    "        plt.hlines(0, interval_left, interval_right)\n",
    "        # label the axes\n",
    "        plt.xlabel(\"$x$\", fontsize=26)\n",
    "        plt.ylabel(\"$f(x)$\", fontsize=26)\n",
    "        # set limits for the x and y axes in the figure\n",
    "        # set x limits\n",
    "        plt.xlim((interval_left, interval_right))\n",
    "        # set y limits\n",
    "        return plt.ylim((-5, 5))\n",
    "\n",
    "    def solve(self):\n",
    "        \"\"\"\n",
    "        Inputing the values\n",
    "        :return: Result\n",
    "        \"\"\"\n",
    "        # Input Numbers\n",
    "        x0 = input('X0: ')\n",
    "        e = input('Tolerable Error: ')\n",
    "        N = input('Maximum Number of steps: ')\n",
    "\n",
    "        x0 = float(x0)\n",
    "        e = float(e)\n",
    "        N = int(N)\n",
    "        \n",
    "        print('X0 = {}\\nTolerable Error: = {}\\nMaximum Number of steps = {}'.format(x0, e, N))\n",
    "        return self.newton(x0, e, N)"
   ]
  },
  {
   "cell_type": "code",
   "execution_count": 5,
   "metadata": {},
   "outputs": [],
   "source": [
    "x = NewtonSolver()"
   ]
  },
  {
   "cell_type": "markdown",
   "metadata": {},
   "source": [
    "### Plot the function"
   ]
  },
  {
   "cell_type": "code",
   "execution_count": 6,
   "metadata": {},
   "outputs": [
    {
     "data": {
      "text/plain": [
       "(-5.0, 5.0)"
      ]
     },
     "execution_count": 6,
     "metadata": {},
     "output_type": "execute_result"
    },
    {
     "data": {
      "image/png": "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\n",
      "text/plain": [
       "<Figure size 432x288 with 1 Axes>"
      ]
     },
     "metadata": {
      "needs_background": "light"
     },
     "output_type": "display_data"
    }
   ],
   "source": [
    "x.plotter()"
   ]
  },
  {
   "cell_type": "markdown",
   "metadata": {},
   "source": [
    "### Solve"
   ]
  },
  {
   "cell_type": "code",
   "execution_count": 7,
   "metadata": {},
   "outputs": [
    {
     "name": "stdin",
     "output_type": "stream",
     "text": [
      "X0:  0.5\n",
      "Tolerable Error:  0.01\n",
      "Maximum Number of steps:  15\n"
     ]
    },
    {
     "name": "stdout",
     "output_type": "stream",
     "text": [
      "X0 = 0.5\n",
      "Tolerable Error: = 0.01\n",
      "Maximum Number of steps = 15\n",
      "\n",
      "\n",
      "*** NEWTON METHOD IMPLEMENTATION***\n",
      "Iteration - 1, x1 = -0.311230 and f(x1) = 0.421316\n",
      "Iteration - 2, x1 = -0.554407 and f(x1) = 0.020006\n",
      "Iteration - 3, x1 = -0.567114 and f(x1) = 0.000046\n",
      "\n",
      "Required root is: -0.56711382\n"
     ]
    }
   ],
   "source": [
    "x.solve()"
   ]
  }
 ],
 "metadata": {
  "kernelspec": {
   "display_name": "Python 3",
   "language": "python",
   "name": "python3"
  },
  "language_info": {
   "codemirror_mode": {
    "name": "ipython",
    "version": 3
   },
   "file_extension": ".py",
   "mimetype": "text/x-python",
   "name": "python",
   "nbconvert_exporter": "python",
   "pygments_lexer": "ipython3",
   "version": "3.8.5"
  }
 },
 "nbformat": 4,
 "nbformat_minor": 4
}
